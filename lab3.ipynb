{
 "cells": [
  {
   "cell_type": "markdown",
   "metadata": {},
   "source": [
    "# Lab 3 : Mutual information calculation"
   ]
  },
  {
   "cell_type": "markdown",
   "metadata": {},
   "source": [
    "### Question 1\n",
    "\n",
    "Pour cette question, on souhaite coder une fonction retournant l'information mutuelle entre deux vecteurs de données de même longueur, nommés x et y. Pour ce faire, il faut définir plusieurs fonctions intermédiaires.\n",
    "\n",
    "Commençons par définir une fonction retournant la matrice de contingence de x et y :"
   ]
  },
  {
   "cell_type": "code",
   "execution_count": 2,
   "metadata": {},
   "outputs": [],
   "source": [
    "import numpy as np\n",
    "\n",
    "def matrice_contingence(x, y):\n",
    "    M = np.array([[0 for _ in range(max(y)+1)] for _ in range(max(x)+1)])\n",
    "    for i in range(len(x)):\n",
    "        M[x[i]][y[i]] += 1\n",
    "    return M"
   ]
  },
  {
   "cell_type": "markdown",
   "metadata": {},
   "source": [
    "Puis, avec cette fonction, on en écrit une autre qui retourne la distribution conjointe de x et y :"
   ]
  },
  {
   "cell_type": "code",
   "execution_count": 3,
   "metadata": {},
   "outputs": [],
   "source": [
    "def distribution_conjointe(x, y):\n",
    "    M = matrice_contingence(x, y)/len(x)\n",
    "    #au cas où la proba serait nulle, on lui rajoute un epsilon pour faciliter le calcul du log (log(0) n'existe pas !)\n",
    "    for i in range(len(M)):\n",
    "        for j in range(len(M[0])):\n",
    "            M[i][j] += 10**(-15)\n",
    "    return M"
   ]
  },
  {
   "cell_type": "markdown",
   "metadata": {},
   "source": [
    "On écrit ensuite une fonction retournant la probabilité P(x=a, y=b), avec a et b en paramètres. La fonction ne prend pas en paramètre x et y, mais directement leur distribution conjointe, car cela évite de calculer la distribution conjointe à chaque fois que l'on appelle cette fonction :"
   ]
  },
  {
   "cell_type": "code",
   "execution_count": 4,
   "metadata": {},
   "outputs": [],
   "source": [
    "def p(DC, a, b):\n",
    "    return DC[a][b]"
   ]
  },
  {
   "cell_type": "markdown",
   "metadata": {},
   "source": [
    "On définit ensuite la fonction retournant la distribution marginale de x : elle retourne P(x=a), avec a en paramètre. De même, on ne passe pas en paramètre x et y mais directement leur distribution conjointe, pour éviter de la calculer à chaque fois que l'on appelle cette fonction :"
   ]
  },
  {
   "cell_type": "code",
   "execution_count": 5,
   "metadata": {},
   "outputs": [],
   "source": [
    "def p_x(DC, a):\n",
    "    return sum(p(DC, a, b) for b in range(len(DC)))"
   ]
  },
  {
   "cell_type": "markdown",
   "metadata": {},
   "source": [
    "De la même manière, on écrit la fonction retournant la fonction retournant la fonction marginale de y :"
   ]
  },
  {
   "cell_type": "code",
   "execution_count": 6,
   "metadata": {},
   "outputs": [],
   "source": [
    "def p_y(DC, b):\n",
    "    return sum(p(DC, a, b) for a in range(len(DC)))"
   ]
  },
  {
   "cell_type": "markdown",
   "metadata": {},
   "source": [
    "On a donc tous les éléments pour écrire la fonction prenant deux vecteurs en paramètres et retournant la quantité d'information partagée par ces deux vecteurs.\n",
    "\n",
    "On rappelle que la formule de la quantité d'information entre deux vecteurs est :\n",
    "$$I(x ; y) = \\sum_{i=0}^n \\sum_{j=0}^n p(x=i, y=j) \\times \\log_2 \\left ( \\frac{p(x=i, y=j)}{p(x=i) \\times p(y=j)} \\right )$$\n",
    "où $n$ est la longueur commune de x et y."
   ]
  },
  {
   "cell_type": "code",
   "execution_count": 7,
   "metadata": {},
   "outputs": [],
   "source": [
    "from math import log\n",
    "\n",
    "def I(x, y):\n",
    "    answer = 0\n",
    "    DC = distribution_conjointe(x, y)\n",
    "    for i in range(max(x)+1):\n",
    "        for j in range(max(y)+1):\n",
    "            answer += p(DC, i, j) * log(p(DC, i, j)/(p_x(DC, i)*p_y(DC, j)), 2.0)\n",
    "    return answer"
   ]
  },
  {
   "cell_type": "markdown",
   "metadata": {},
   "source": [
    "Vérifions que notre programme fonctionne bien en le testant sur deux vecteurs dont on connaît la quantité d'information mutuelle :"
   ]
  },
  {
   "cell_type": "code",
   "execution_count": 8,
   "metadata": {},
   "outputs": [],
   "source": [
    "x = np.array([3, 2, 4, 4, 2, 1, 2, 2, 3, 3, 1, 2, 5, 1, 5, 4, 3, 3, 2, 3])-1\n",
    "y = np.array([1, 2, 2, 2, 2, 5, 2, 2, 1, 1, 5, 2, 5, 5, 5, 2, 1, 1, 2, 1])-1"
   ]
  },
  {
   "cell_type": "markdown",
   "metadata": {},
   "source": [
    "Si notre programme fonctionne, cette quantité d'information est environ égale à 1,54 bits :"
   ]
  },
  {
   "cell_type": "code",
   "execution_count": 9,
   "metadata": {},
   "outputs": [
    {
     "name": "stdout",
     "output_type": "stream",
     "text": [
      "1.539491070299636\n"
     ]
    }
   ],
   "source": [
    "print(I(x, y))"
   ]
  },
  {
   "cell_type": "markdown",
   "metadata": {},
   "source": [
    "### Question 2\n",
    "\n",
    "On souhaite calculer la quantité d'information entre les différentes composantes de l'image \"bird_small.tiff\", utilisée lors du TP 2, c'est-à-dire entre calculer les quantités d'information :\n",
    "- entre l'ensemble des composantes 'rouge' de chaque pixel de l'image et celui des composantes 'vert' ;\n",
    "- entre l'ensemble des composantes 'rouge' de chaque pixel et celui des composantes 'bleu' ;\n",
    "- entre l'ensemble des composantes 'bleu' de chaque pixel  et celui des composantes 'vert'.\n",
    "\n",
    "On définit donc une fonction qui prend le nom d'une image en paramètre et qui obtient la liste des pixels de l'image, en déduit les ensembles des composantes 'rouge', 'vert' et 'bleu' et affiche les quantités d'information listées ci-dessus :"
   ]
  },
  {
   "cell_type": "code",
   "execution_count": 12,
   "metadata": {},
   "outputs": [],
   "source": [
    "from PIL import Image\n",
    "\n",
    "def information_quantities_between_colors(filename):\n",
    "    im = Image.open(filename)\n",
    "    pix = im.load()\n",
    "    A = np.array([pix[x, y] for y in range(im.size[1]) for x in range(im.size[0])])\n",
    "\n",
    "    r = np.array([A[i][0] for i in range(len(A))])\n",
    "    g = np.array([A[i][1] for i in range(len(A))])\n",
    "    b = np.array([A[i][2] for i in range(len(A))])\n",
    "\n",
    "    print(\"I(r, g) = \" + str(I(r, g)))\n",
    "    print(\"I(r, b) = \" + str(I(r, b)))\n",
    "    print(\"I(b, g) = \" + str(I(b, g)))"
   ]
  },
  {
   "cell_type": "markdown",
   "metadata": {},
   "source": [
    "On applique cette fonction à l'image souhaitée et on obtient les quantités d'information suivantes :"
   ]
  },
  {
   "cell_type": "code",
   "execution_count": 13,
   "metadata": {},
   "outputs": [
    {
     "name": "stdout",
     "output_type": "stream",
     "text": [
      "I(r, g) = 3.2130085978037024\n",
      "I(r, b) = 2.6495812210252727\n",
      "I(b, g) = 2.8743919791095616\n"
     ]
    }
   ],
   "source": [
    "information_quantities_between_colors('ex9Data/bird_small.tiff')"
   ]
  },
  {
   "cell_type": "markdown",
   "metadata": {},
   "source": [
    "On observe que, pour cette image, ce sont les composantes 'rouge' et 'bleu' qui partagent le plus d'information."
   ]
  },
  {
   "cell_type": "markdown",
   "metadata": {},
   "source": [
    "### Question 3\n",
    "\n",
    "On souhaite maintenant calculer la quantité d'information entre les différentes composantes de l'approximation de l'image précédente, issue de la transformation de cette image à l'aide de l'algorithme des k-means dans le TP 2. Cette image a été préalablement sauvegardée sous le nom \"bird_small_kmeans.png\".\n",
    "\n",
    "Pour ce faire, utilisons la fonction définie à la question précédente sur cette image et relevons les différentes quantités d'information :"
   ]
  },
  {
   "cell_type": "code",
   "execution_count": 14,
   "metadata": {},
   "outputs": [
    {
     "name": "stdout",
     "output_type": "stream",
     "text": [
      "I(r, g) = 3.3875762773168745\n",
      "I(r, b) = 3.392885506430959\n",
      "I(b, g) = 3.391767257382181\n"
     ]
    }
   ],
   "source": [
    "information_quantities_between_colors('ex9Data/bird_small_kmeans.png')"
   ]
  },
  {
   "cell_type": "markdown",
   "metadata": {},
   "source": [
    "Cette fois-ci, on observe que chaque paire de composante ('rouge', 'vert' ou 'bleu') partage à peu près la même quantité d'information."
   ]
  },
  {
   "cell_type": "code",
   "execution_count": null,
   "metadata": {},
   "outputs": [],
   "source": []
  }
 ],
 "metadata": {
  "kernelspec": {
   "display_name": "Python 3",
   "language": "python",
   "name": "python3"
  },
  "language_info": {
   "codemirror_mode": {
    "name": "ipython",
    "version": 3
   },
   "file_extension": ".py",
   "mimetype": "text/x-python",
   "name": "python",
   "nbconvert_exporter": "python",
   "pygments_lexer": "ipython3",
   "version": "3.8.1"
  }
 },
 "nbformat": 4,
 "nbformat_minor": 4
}
