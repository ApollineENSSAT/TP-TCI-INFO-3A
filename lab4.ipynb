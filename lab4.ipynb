{
 "cells": [
  {
   "cell_type": "markdown",
   "metadata": {},
   "source": [
    "# Lab 4: IT-based feature selection applied to hyperspectral image band selection "
   ]
  },
  {
   "cell_type": "markdown",
   "metadata": {},
   "source": [
    "### Question 1\n",
    "\n",
    "On souhaite implémenter l'algorithme mRMR, dont la finalité est de sélectionner les bandes spectrales représentant le mieux la diversité et la complémentarité d'une image hyperspectrale.\n",
    "\n",
    "Les bandes sont sélectionnées dans un tableau à deux dimensions, X, et comparées à un vecteur y, de même longueurs que chaque vecteur x qui compose X. La sélection des bandes se fait selon le critère suivant :\n",
    "$$z_1 = \\arg \\max_{x \\in X} \\left [ I(x ; y) \\right ]$$\n",
    "$$\\forall k \\geq 2 \\ \\ \\ z_k = \\arg \\max_{x \\in X-\\{z_1, z_2, ..., z_{k-1}\\}}\n",
    "\\left [ I(x ; y) - \\frac{1}{k-1} \\sum_{i = 1}^{k-1} I(z_i ; x) \\right ]$$\n",
    "où $z_i$ est la ième bande sélectionnée.\n",
    "\n",
    "Comme cette sélection se fait à l'aide de la quantité d'information, on a besoin des fonctions définies pour calculer cette quantité lors du TP 3 :"
   ]
  },
  {
   "cell_type": "code",
   "execution_count": 1,
   "metadata": {},
   "outputs": [],
   "source": [
    "import numpy as np\n",
    "from math import log\n",
    "\n",
    "def matrice_contingence(x, y):\n",
    "    M = np.array([[0 for _ in range(max(y)+1)] for _ in range(max(x)+1)])\n",
    "    for i in range(len(x)):\n",
    "        M[x[i]][y[i]] += 1\n",
    "    return M\n",
    "\n",
    "def distribution_conjointe(x, y):\n",
    "    M = matrice_contingence(x, y)/len(x)\n",
    "    for i in range(len(M)):\n",
    "        for j in range(len(M[0])):\n",
    "            M[i][j] += 10**(-15)\n",
    "    return M\n",
    "\n",
    "def p(DC, a, b):\n",
    "    return DC[a][b]\n",
    "\n",
    "def p_x(DC, a):\n",
    "    return sum(p(DC, a, b) for b in range(len(DC[0])))\n",
    "    \n",
    "def p_y(DC, b):\n",
    "    return sum(p(DC, a, b) for a in range(len(DC)))\n",
    "\n",
    "def I(x, y):\n",
    "    answer = 0\n",
    "    DC = distribution_conjointe(x, y)\n",
    "    for i in range(max(x)+1):\n",
    "        for j in range(max(y)+1):\n",
    "            answer += p(DC, i, j) * log(p(DC, i, j)/(p_x(DC, i)*p_y(DC, j)), 2.0)\n",
    "    return answer"
   ]
  },
  {
   "cell_type": "markdown",
   "metadata": {},
   "source": [
    "L'image hyperspectrale que nous allons étudier pour ce TP se nomme \"Indian Pines\" ; on charge cette image dans une variable éponyme :"
   ]
  },
  {
   "cell_type": "code",
   "execution_count": 2,
   "metadata": {},
   "outputs": [],
   "source": [
    "from scipy.io import loadmat\n",
    "\n",
    "mat = loadmat('Indian_pines.mat')\n",
    "indian_pines = np.reshape(mat[\"indian_pines\"], (145*145, 220))"
   ]
  },
  {
   "cell_type": "markdown",
   "metadata": {},
   "source": [
    "Les valeurs du tableau indian_pines sont comprises entre 900 et 1000. C'est pourquoi, pour éviter de manipuler des matrices de trop grande taille, on transforme ces valeurs en entiers compris entre 0 et 15.\n",
    "\n",
    "Pour cela, on divise l'intervalle entre la plus petite et la plus grande valeur d'indian_pines en 16 intervalles plus petits, et chaque valeur d'indian_pines est remplacée par le numéro de l'intervalle auquel elle appartient.\n",
    "\n",
    "On ne modifie pas la variable indian_pines en elle-même ; on crée un nouveau tableau, X, qui a les mêmes dimensions qu'indian_pines, et dont chaque valeur est le numéro d'intervalle de la valeur d'indian_pines correspondante."
   ]
  },
  {
   "cell_type": "code",
   "execution_count": 4,
   "metadata": {},
   "outputs": [],
   "source": [
    "def hist_class(x, classes):\n",
    "    n = len(classes)\n",
    "    for i in range(n-1):\n",
    "        if x >= classes[i] and x < classes[i+1] :\n",
    "            return i\n",
    "    if x == classes[n-1]:\n",
    "        return n-2\n",
    "\n",
    "hist = np.histogram(indian_pines, bins = 16)\n",
    "X = np.array([[hist_class(indian_pines[i][j], hist[1]) for j in range(220)] for i in range(145*145)])"
   ]
  },
  {
   "cell_type": "markdown",
   "metadata": {},
   "source": [
    "On crée ensuite le vecteur Y, qui est une autre image hyperspectrale. Ses valeurs sont comprises entre 0 et 16, d'où la division en 16 classes des valeurs d'indian_pines."
   ]
  },
  {
   "cell_type": "code",
   "execution_count": 5,
   "metadata": {},
   "outputs": [],
   "source": [
    "mat = loadmat('Indian_pines_gt.mat')\n",
    "Y = np.reshape(mat[\"indian_pines_gt\"], (145*145))"
   ]
  },
  {
   "cell_type": "markdown",
   "metadata": {},
   "source": [
    "On a ainsi créé trois tableaux partageant le même nombre de lignes.\n",
    "\n",
    "Enfin, dans ces trois tableaux, on supprime chaque ligne i telle que Y\\[i\\]=0 :"
   ]
  },
  {
   "cell_type": "code",
   "execution_count": 6,
   "metadata": {},
   "outputs": [],
   "source": [
    "indian_pines = indian_pines[~(Y[:]==0)]\n",
    "X = X[~(Y[:]==0)]\n",
    "Y = Y[~(Y[:]==0)]"
   ]
  },
  {
   "cell_type": "markdown",
   "metadata": {},
   "source": [
    "On définit maintenant la fonction destinée à sélectionner les bandes les plus pertinentes de notre image hyperspectrale.\n",
    "\n",
    "Cette fonction prend en paramètre k, le nombre de bandes à sélectionner, ainsi que le tableau X et le vecteur Y. Les bandes sont sélectionnées selon le critère établi au début du TP, en distinguant les cas où k=1 et où k >= 2. La fonction retourne la liste des indices des bandes de X sélectionnées :"
   ]
  },
  {
   "cell_type": "code",
   "execution_count": 7,
   "metadata": {},
   "outputs": [],
   "source": [
    "def Z(k, X, Y): #k doit être supérieur ou égal à 1\n",
    "    band_list = []\n",
    "    z_list = []\n",
    "    arg, value = 0, 0\n",
    "    for i in range(220):\n",
    "        x = np.array([X[j][i] for j in range(len(Y))])\n",
    "        i_Yx = I(Y, x)\n",
    "        if i_Yx > value :\n",
    "            arg, value = i, i_Yx\n",
    "    band_list.append(arg)\n",
    "    z = np.array([X[j][arg] for j in range(len(Y))])\n",
    "    z_list.append(z)\n",
    "    for l in range(2, k+1):\n",
    "        arg, value = 0, 0\n",
    "        for i in range(220):\n",
    "            if i not in band_list :\n",
    "                x = np.array([X[j][i] for j in range(len(Y))])\n",
    "                c_Yx = I(Y, x) - sum(I(z, x) for z in z_list)/(k-1)\n",
    "                if c_Yx > value :\n",
    "                    arg, value = i, c_Yx\n",
    "        band_list.append(arg)\n",
    "        z = np.array([X[j][arg] for j in range(len(Y))])\n",
    "        z_list.append(z)\n",
    "    return band_list"
   ]
  },
  {
   "cell_type": "markdown",
   "metadata": {},
   "source": [
    "Par exemple, la liste des 20 bandes les plus pertinentes de notre image hyperspectrale est :"
   ]
  },
  {
   "cell_type": "code",
   "execution_count": 8,
   "metadata": {},
   "outputs": [
    {
     "name": "stdout",
     "output_type": "stream",
     "text": [
      "[27, 12, 11, 26, 17, 120, 121, 119, 122, 52, 116, 143, 118, 74, 123, 73, 142, 129, 72, 130]\n"
     ]
    }
   ],
   "source": [
    "band_list = Z(20, X, Y)\n",
    "print(band_list)"
   ]
  },
  {
   "cell_type": "markdown",
   "metadata": {},
   "source": [
    "Comme le premier numéro de la liste est 27, la première bande correspond à la colonne d'indice 27 dans X. De même, la seconde bande correspond à la colonne d'indice 12 dans X, la troisième bande à la colonne d'indice 11, etc."
   ]
  },
  {
   "cell_type": "markdown",
   "metadata": {},
   "source": [
    "### Question 2\n",
    "\n",
    "On souhaite maintenant implémenter un classifieur k-NN, que l'on entraînerait uniquement sur les bandes d'indian_pines sélectionnées à la question 2, et que l'on testerait sur l'ensemble des vecteurs d'indian_pines.\n",
    "\n",
    "On définit donc une fonction prenant une liste de bandes sélectionnées en paramètre et retourne le taux de bonne classification d'un classifieur entraîné de la manière décrite ci-dessus.\n",
    "\n",
    "Avant toute chose, cependant, on prépare les données pour l'entraînement du classifieur : il s'agit, d'une part, du tableau indian_pines modifié de manière à ce que les colonnes ne correspondant pas à aucune bande sélectionnée soient remplies de \"0\" (les autres colonnes contenant bien leurs éléments respectifs), et d'autre part du vecteur Y. Les données de test correspondent quant à elles à indian_pines avant la modification précédente et à Y. En effet, il faut que les données d'entraînement et les données de test aient les mêmes dimensions."
   ]
  },
  {
   "cell_type": "code",
   "execution_count": 3,
   "metadata": {},
   "outputs": [],
   "source": [
    "from sklearn.neighbors import KNeighborsClassifier\n",
    "from sklearn.metrics import accuracy_score\n",
    "\n",
    "def kNNclassifier_overall_accuracy(band_list):\n",
    "    X_train = np.array([[0 for _ in range(220)] for _ in range(len(Y))])\n",
    "    for i in range(len(Y)):\n",
    "        for j in range(220):\n",
    "            if j in band_list:\n",
    "                X_train[i][j] = indian_pines[i][j]\n",
    "    y_train = Y\n",
    "    X_test = indian_pines\n",
    "    y_test = Y\n",
    "    \n",
    "    kNNclassifier = KNeighborsClassifier(n_neighbors = 5, weights='uniform', algorithm='auto')\n",
    "    kNNclassifier.fit(X_train, y_train) \n",
    "    y_pred = kNNclassifier.predict(X_test)\n",
    "    return accuracy_score(y_test,y_pred)*100"
   ]
  },
  {
   "cell_type": "markdown",
   "metadata": {},
   "source": [
    "Prenons connaissance du taux de bonne classification d'un classifieur k-NN qui aurait été entraîné uniquement à l'aide des bandes sélectionnées à la question précédente :"
   ]
  },
  {
   "cell_type": "code",
   "execution_count": 9,
   "metadata": {},
   "outputs": [
    {
     "name": "stdout",
     "output_type": "stream",
     "text": [
      "85.70592252902722\n"
     ]
    }
   ],
   "source": [
    "print(kNNclassifier_overall_accuracy(band_list))"
   ]
  },
  {
   "cell_type": "markdown",
   "metadata": {},
   "source": [
    "On constate que ce taux est plutôt élevé : cela prouve qu'il suffit d'utiliser un nombre restreint de bandes sélectionnées d'une image hyperspectrale pour obtenir un bon classifieur k-NN."
   ]
  },
  {
   "cell_type": "markdown",
   "metadata": {},
   "source": [
    "### Question 3\n",
    "\n",
    "Traçons la courbe du taux de bonne classification d'un classifieur k-NN entraîné uniquement sur une liste de bandes sélectionnées d'une image hyperspectrale et testé sur l'ensemble de cette image, en fonction du nombre de bandes sélectionnées :"
   ]
  },
  {
   "cell_type": "code",
   "execution_count": 10,
   "metadata": {},
   "outputs": [
    {
     "data": {
      "image/png": "[encoded data removed]",
      "text/plain": [
       "<Figure size 432x288 with 1 Axes>"
      ]
     },
     "metadata": {
      "needs_background": "light"
     },
     "output_type": "display_data"
    }
   ],
   "source": [
    "import matplotlib.pyplot as plt\n",
    "\n",
    "x_list = []\n",
    "y_list = []\n",
    "for k in range(1, 21):\n",
    "    x_list.append(k)\n",
    "    band_list = Z(k, X, Y)\n",
    "    y_list.append(kNNclassifier_overall_accuracy(band_list))\n",
    "plt.title(\"kNN classifier overall accuracy as a function of selected bands number\")\n",
    "plt.plot(x_list, y_list)\n",
    "plt.xlabel(\"Selected bands number\")\n",
    "plt.ylabel(\"Overall accuracy (in %)\")\n",
    "plt.show()"
   ]
  },
  {
   "cell_type": "markdown",
   "metadata": {},
   "source": [
    "On observe l'augmentation de cette courbe : en effet, plus il y a de bandes sélectionnées, meilleure est la représentation de l'image hyperspectrale, et meilleure est la classification.\n",
    "\n",
    "On remarque que, entre une et sept bandes sélectionnées, le taux de bonne classification augmente drastiquement, avant d'entamer une croissance bien plus lente. On interprète ceci comme le fait qu'à partir d'un certain nombre de bandes sélectionnées, en augmenter encore le nombre augmente relativement peu les capacités du classifieur."
   ]
  },
  {
   "cell_type": "code",
   "execution_count": null,
   "metadata": {},
   "outputs": [],
   "source": []
  }
 ],
 "metadata": {
  "kernelspec": {
   "display_name": "Python 3",
   "language": "python",
   "name": "python3"
  },
  "language_info": {
   "codemirror_mode": {
    "name": "ipython",
    "version": 3
   },
   "file_extension": ".py",
   "mimetype": "text/x-python",
   "name": "python",
   "nbconvert_exporter": "python",
   "pygments_lexer": "ipython3",
   "version": "3.8.1"
  }
 },
 "nbformat": 4,
 "nbformat_minor": 4
}
