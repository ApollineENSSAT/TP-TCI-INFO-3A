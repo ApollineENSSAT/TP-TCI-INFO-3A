{
 "cells": [
  {
   "cell_type": "markdown",
   "metadata": {},
   "source": [
    "# Lab 1 : Source coding"
   ]
  },
  {
   "cell_type": "markdown",
   "metadata": {},
   "source": [
    "### Question 1\n",
    "\n",
    "Écrivons un programme estimant l'entropie d'un vecteur de données binaires.\n",
    "\n",
    "Commençons par définir une fonction définissant l'entropie d'un ensemble de probabilités :"
   ]
  },
  {
   "cell_type": "code",
   "execution_count": 9,
   "metadata": {},
   "outputs": [],
   "source": [
    "from math import log\n",
    "\n",
    "def H(A) :\n",
    "\t#au cas où la proba serait nulle, on lui rajoute un epsilon pour faciliter le calcul du log (log(0) n'existe pas)\n",
    "\tfor i in range(len(A)) :\n",
    "\t\tA[i] += 10**(-15)\n",
    "\treturn -(sum(A[i]*log(A[i], 2.0) for i in range(len(A))))"
   ]
  },
  {
   "cell_type": "markdown",
   "metadata": {},
   "source": [
    "On peut maintenant coder la fonction demandée. Cette fonction commence par transformer le vecteur en ensemble de probabilités, puis retourne l'entropie de cet ensemble :"
   ]
  },
  {
   "cell_type": "code",
   "execution_count": 10,
   "metadata": {},
   "outputs": [],
   "source": [
    "def entropy(data) :\n",
    "\tprobas = [0, 0]\n",
    "\tfor i in range(len(data)) :\n",
    "\t\tprobas[data[i]] += 1\n",
    "\tfor i in range(len(probas)) :\n",
    "\t\tprobas[i] = probas[i]/len(data)\n",
    "\treturn H(probas)"
   ]
  },
  {
   "cell_type": "markdown",
   "metadata": {},
   "source": [
    "### Question 2\n",
    "\n",
    "On construit un vecteur contenant des bits indépendants et équiprobables ; il va s'agir d'un vecteur de 100 bits, contenant 50 \"0\" et 50 \"1\" :"
   ]
  },
  {
   "cell_type": "code",
   "execution_count": 16,
   "metadata": {},
   "outputs": [],
   "source": [
    "data = [0]*50+[1]*50"
   ]
  },
  {
   "cell_type": "markdown",
   "metadata": {},
   "source": [
    "On vérifie que l'entropie de ce vecteur est bien égale à 1 :"
   ]
  },
  {
   "cell_type": "code",
   "execution_count": 17,
   "metadata": {},
   "outputs": [
    {
     "name": "stdout",
     "output_type": "stream",
     "text": [
      "0.9999999999999991\n"
     ]
    }
   ],
   "source": [
    "print(entropy(data))"
   ]
  },
  {
   "cell_type": "markdown",
   "metadata": {},
   "source": [
    "### Question 3\n",
    "\n",
    "Dessinons les variations de l'entropie en fonction de P(X=0) (i.e. en fonction de la proportion de \"0\" se trouvant dans le vecteur dont on veut calculer l'entropie).\n",
    "\n",
    "Pour chaque valeur de P(X=0), plutôt que de créer un vecteur de données tel que la proportion de \"0\" qui s'y trouve soit égale à P(X=0), on calcule directement H(\\[P(X=0), 1-P(X=0)\\]), ce qui est plus rapide et moins fastidieux."
   ]
  },
  {
   "cell_type": "code",
   "execution_count": 6,
   "metadata": {},
   "outputs": [
    {
     "data": {
      "image/png": "[encoded data removed]",
      "text/plain": [
       "<Figure size 432x288 with 1 Axes>"
      ]
     },
     "metadata": {
      "needs_background": "light"
     },
     "output_type": "display_data"
    }
   ],
   "source": [
    "import matplotlib.pyplot as plt\n",
    "\n",
    "X, Y = [], []\n",
    "for alpha in range(101) :\n",
    "    p = float(alpha)/100.0\n",
    "    X.append(p)\n",
    "    Y.append(H([p, 1-p]))\n",
    "plt.title(\"Entropy of a binary data vector as a function of P(X=0)\")\n",
    "plt.plot(X, Y)\n",
    "plt.xlabel(\"P(X=0)\")\n",
    "plt.ylabel(\"Entropy\")\n",
    "plt.show()"
   ]
  },
  {
   "cell_type": "markdown",
   "metadata": {},
   "source": [
    "### Question 4\n",
    "\n",
    "On considère une source discrète avec mémoire, utilisant un alphabet de données binaires et produisant séquentiellement des symboles $x_1, x_2, ... , x_n$, indicés dans le temps. On note $A$ l'ensemble de toutes les réalisations possibles de ces symboles.\n",
    "\n",
    "L'entropie d'une telle source se calcule de la façon suivante, en prenant en compte l'ordre $p$ de son effet de mémoire :\n",
    "\n",
    "$$H(x_k) = \\sum_{A} H(x_k | x_{k-1}, x_{k-2}, ..., x_{k-p}) \\times p(x_{k-1}, x_{k-2}, ..., x_{k-p}) $$\n",
    "\n",
    "On se place dans le cas d'une chaîne de Markov, dont l'ordre de l'effet de mémoire est $p=1$. On définit sa matrice de transition :\n",
    "\n",
    "$$ \\mathbf{\\Pi} = \n",
    "\\begin{bmatrix}\n",
    "    p(x_k = 0 | x_{k-1} = 0) & p(x_k = 1 | x_{k-1} = 0) \\\\\n",
    "    p(x_k = 0 | x_{k-1} = 1) & p(x_k = 1 | x_{k-1} = 1)\n",
    "\\end{bmatrix}\n",
    "=\n",
    "\\begin{bmatrix}\n",
    "    p_{00} & p_{10} \\\\\n",
    "    p_{01} & p_{11}\n",
    "\\end{bmatrix}\n",
    "$$\n",
    "\n",
    "De plus, on suppose que cette chaîne de Markov est stationnaire, i.e. pour $\\mathbf{P} = \n",
    "\\begin{bmatrix}\n",
    "    p_0 & p_1\n",
    "\\end{bmatrix}$ on vérifie que $\\mathbf{P} \\mathbf{\\Pi} = \\mathbf{P}$.\n",
    "\n",
    "Calculons $p_0$ et $p_1$ en fonction de $p_{00}$ et $p_{01}$ :"
   ]
  },
  {
   "cell_type": "markdown",
   "metadata": {},
   "source": [
    "$$\\mathbf{P} = \\mathbf{P} \\mathbf{\\Pi} $$\n",
    "\n",
    "$$\\Rightarrow\n",
    "\\begin{bmatrix}\n",
    "    p_0 & p_1\n",
    "\\end{bmatrix}\n",
    "=\n",
    "\\begin{bmatrix}\n",
    "    p_{00} & p_{10} \\\\\n",
    "    p_{01} & p_{11}\n",
    "\\end{bmatrix}\n",
    "\\times\n",
    "\\begin{bmatrix}\n",
    "    p_0 & p_1\n",
    "\\end{bmatrix}\n",
    "$$\n",
    "\n",
    "$$\\Rightarrow\n",
    "\\left \\{\n",
    "\\begin{matrix}\n",
    "    p_0 = p_0 p_{00} + p_1 p_{01} \\\\ \n",
    "    p_1 = p_0 p_{10} + p_1 p_{11}\n",
    "\\end{matrix}\n",
    "\\right .\n",
    "$$\n",
    "\n",
    "$$\\Rightarrow\n",
    "\\left \\{\n",
    "\\begin{matrix}\n",
    "    p_0 = p_0 p_{00} + ( 1 - p_1 ) p_{01} \\\\ \n",
    "    p_1 = 1 - p_0\n",
    "\\end{matrix}\n",
    "\\right .\n",
    "$$\n",
    "\n",
    "$$\\Rightarrow\n",
    "\\left \\{\n",
    "\\begin{matrix}\n",
    "    p_0 (1 - p_{00} + p_{01}) =  p_{01} \\\\ \n",
    "    p_1 = 1 - p_0\n",
    "\\end{matrix}\n",
    "\\right .\n",
    "$$\n",
    "\n",
    "$$\\Rightarrow\n",
    "\\left \\{\n",
    "\\begin{matrix}\n",
    "    p_0 = \\frac{p_{01}}{1 - p_{00} + p_{01}} \\\\ \n",
    "    p_1 = \\frac{1 - p_{00}}{1 - p_{00} + p_{01}}\n",
    "\\end{matrix}\n",
    "\\right .\n",
    "$$\n",
    "\n",
    "$$CQFD.$$"
   ]
  },
  {
   "cell_type": "markdown",
   "metadata": {},
   "source": [
    "On en déduit l'expression de l'entropie de cette source :\n",
    "\n",
    "$$ H(x_k) = \\sum_{A} H(x_k | x_{k-1}, x_{k-2}, ..., x_{k-p}) \\times p(x_{k-1}, x_{k-2}, ..., x_{k-p}) $$\n",
    "$$ H(x_k) = \\sum_{A} H(x_k | x_{k-1}) \\times p(x_{k-1}) $$\n",
    "$$ H(x_k) = H(x_k | x_{k-1} = 0) \\times p_0 + H(x_k | x_{k-1} = 1) \\times p_1 $$\n",
    "\n",
    "$$ H(x_k) = -p(x_k = 0 | x_{k-1} = 0) \\times \\log_2(p(x_k = 0 | x_{k-1} = 0)) \\times p_0\n",
    "-p(x_k = 1 | x_{k-1} = 0) \\times \\log_2(p(x_k = 1 | x_{k-1} = 0)) \\times p_0 $$\n",
    "$$ -p(x_k = 0 | x_{k-1} = 1) \\times \\log_2(p(x_k = 0 | x_{k-1} = 1)) \\times p_1\n",
    "-p(x_k = 1 | x_{k-1} = 1) \\times \\log_2(p(x_k = 1 | x_{k-1} = 1)) \\times p_1 $$\n",
    "\n",
    "$$ H(x_k) = -(p_{00} \\log_2(p_{00}) + p_{10} \\log_2(p_{10})) \\times p_0\n",
    "-(p_{01} \\log_2(p_{01}) + p_{11} \\log_2(p_{11})) \\times p_1 $$\n",
    "\n",
    "$$CQFD.$$"
   ]
  },
  {
   "cell_type": "markdown",
   "metadata": {},
   "source": [
    "### Question 5\n",
    "\n",
    "On considère maintenant l'image \"scan.png\", composée uniquement de pixels noirs et blancs : elle peut donc être facilement convertie en suite de \"0\" et de \"1\". Récupérons cette suite et stockons-la dans la variable data :"
   ]
  },
  {
   "cell_type": "code",
   "execution_count": 19,
   "metadata": {},
   "outputs": [],
   "source": [
    "from PIL import Image\n",
    "\n",
    "data = []\n",
    "im = Image.open('scan.png')\n",
    "pix = im.load()\n",
    "for x in range(im.size[0]):\n",
    "    for y in range(im.size[1]):\n",
    "        data.append(pix[x, y])"
   ]
  },
  {
   "cell_type": "markdown",
   "metadata": {},
   "source": [
    "On peut calculer son volume théorique de trois manières différentes : en comptant le nombre de pixels, en multipliant l'entropie de cette suite par le nombre de pixels en considérant qu'il s'agit d'une source sans mémoire, ou en multipliant l'entropie de la source avec mémoire correspondant à cette suite par le nombre de pixels.\n",
    "\n",
    "Ces volumes doivent s'approcher du volume pratique de l'image, qui est de 108 ko, soit 884 736 bits.\n",
    "\n",
    "On calcule d'abord le nombre de pixels :"
   ]
  },
  {
   "cell_type": "code",
   "execution_count": 8,
   "metadata": {},
   "outputs": [
    {
     "name": "stdout",
     "output_type": "stream",
     "text": [
      "8415000\n"
     ]
    }
   ],
   "source": [
    "print(len(data))"
   ]
  },
  {
   "cell_type": "markdown",
   "metadata": {},
   "source": [
    "Ce premier volume est environ 10 fois plus élevé que le volume pratique.\n",
    "\n",
    "Calculons maintenant le produit de l'entropie de data par le nombre de pixels :"
   ]
  },
  {
   "cell_type": "code",
   "execution_count": 22,
   "metadata": {},
   "outputs": [
    {
     "name": "stdout",
     "output_type": "stream",
     "text": [
      "2384597.117440494\n"
     ]
    }
   ],
   "source": [
    "print(entropy(data)*len(data))"
   ]
  },
  {
   "cell_type": "markdown",
   "metadata": {},
   "source": [
    "Ce volume est environ 3 fois plus élevé que le volume pratique.\n",
    "\n",
    "Pour calculer l'entropie de la source avec mémoire correspondante, commençons par définir une fonction calculant l'entropie d'une suite de probabilités d'une source avec mémoire, prenant en paramètre l'ensemble de probabilités ainsi que la matrice de transition de la source :"
   ]
  },
  {
   "cell_type": "code",
   "execution_count": 24,
   "metadata": {},
   "outputs": [],
   "source": [
    "def H_Markov(PI, A) :\n",
    "\t#au cas où la proba serait nulle, on lui rajoute un epsilon pour faciliter le calcul du log (log(0) n'existe pas !)\n",
    "\tfor i in range(len(A)) :\n",
    "\t\tfor j in range(len(A)) :\n",
    "\t\t\tPI[i][j] += 10**(-15)\n",
    "\tfor i in range(len(A)) :\n",
    "\t\tA[i] += 10**(-15)\n",
    "\treturn sum( -sum(PI[j][i]*log(PI[j][i], 2.0) for j in range(len(A)))*A[i] for i in range(len(A)))"
   ]
  },
  {
   "cell_type": "markdown",
   "metadata": {},
   "source": [
    "On code maintenant une fonction calculant la matrice de transition de la source, transformant la source en vecteur de probabilités, et donnant l'entropie de ce vecteur :"
   ]
  },
  {
   "cell_type": "code",
   "execution_count": 25,
   "metadata": {},
   "outputs": [],
   "source": [
    "def entropy_Markov(data) :\n",
    "\tPI = [[0, 0], [0, 0]] #[[P_00, P_01], [P_10, P_11]]\n",
    "\tprobas = [0, 0]\n",
    "\tprobas[data[0]] += 1\n",
    "\tfor i in range(1, len(data)) :\n",
    "\t\tprobas[data[i]] += 1\n",
    "\t\tPI[data[i]][data[i-1]] += 1\n",
    "\tfor i in range(len(probas)) :\n",
    "\t\tfor j in range(len(probas)) :\n",
    "\t\t\tPI[i][j] = PI[i][j]/probas[i]\n",
    "\tfor i in range(len(probas)) :\n",
    "\t\tprobas[i] = probas[i]/len(data)\n",
    "\treturn H_Markov(PI, probas)"
   ]
  },
  {
   "cell_type": "markdown",
   "metadata": {},
   "source": [
    "À partir de cette fonction, on calcule le troisième volume théorique, qui correspond au produit de la source avec mémoire correspondant à data par le nombre de pixels :"
   ]
  },
  {
   "cell_type": "code",
   "execution_count": 26,
   "metadata": {},
   "outputs": [
    {
     "name": "stdout",
     "output_type": "stream",
     "text": [
      "4030942.2564394777\n"
     ]
    }
   ],
   "source": [
    "print(entropy_Markov(data)*len(data))"
   ]
  },
  {
   "cell_type": "markdown",
   "metadata": {},
   "source": [
    "Ce volume est environ 5 fois plus élevé que le volume pratique.\n",
    "\n",
    "Le volume théorique s'approchant le plus du volume pratique est donc le produit de l'entropie de la source sans mémoire correspondant à l'image multiplié par le nombre de pixels de l'image."
   ]
  },
  {
   "cell_type": "markdown",
   "metadata": {},
   "source": [
    "### Question 6\n",
    "\n",
    "Pour réduire le volume d'une telle suite de pixels, le codage RLE semble approprié. En effet, ce codage retourne un tableau à deux dimensions tel que, pour chaque ligne, le premier élément donne la valeur du pixel rencontré et le deuxième élément le nombre de fois d'affilé où ce pixel apparaît.\n",
    "\n",
    "Définissons donc une fonction prenant en paramètre une suite de \"0\" et de \"1\" et retourne son codage RLE :"
   ]
  },
  {
   "cell_type": "code",
   "execution_count": 30,
   "metadata": {},
   "outputs": [],
   "source": [
    "import numpy as np\n",
    "\n",
    "def RLE(data):\n",
    "    answer_list = []\n",
    "    elem = data[0]\n",
    "    count = 1\n",
    "    for i in range(1, len(data)):\n",
    "        if data[i] == elem :\n",
    "            count += 1\n",
    "        else :\n",
    "            answer_list.append((elem, count))\n",
    "            elem = data[i]\n",
    "            count = 1\n",
    "    answer_list.append((elem, count))\n",
    "    return np.array(answer_list)"
   ]
  },
  {
   "cell_type": "markdown",
   "metadata": {},
   "source": [
    "Le codage RLE de notre source de pixels est donc le suivant :"
   ]
  },
  {
   "cell_type": "code",
   "execution_count": 31,
   "metadata": {},
   "outputs": [
    {
     "name": "stdout",
     "output_type": "stream",
     "text": [
      "[[      1  772413]\n",
      " [      0       1]\n",
      " [      1      35]\n",
      " ...\n",
      " [      1     736]\n",
      " [      0       2]\n",
      " [      1 1261384]]\n"
     ]
    }
   ],
   "source": [
    "print(RLE(data))"
   ]
  },
  {
   "cell_type": "code",
   "execution_count": null,
   "metadata": {},
   "outputs": [],
   "source": []
  }
 ],
 "metadata": {
  "kernelspec": {
   "display_name": "Python 3",
   "language": "python",
   "name": "python3"
  },
  "language_info": {
   "codemirror_mode": {
    "name": "ipython",
    "version": 3
   },
   "file_extension": ".py",
   "mimetype": "text/x-python",
   "name": "python",
   "nbconvert_exporter": "python",
   "pygments_lexer": "ipython3",
   "version": "3.8.1"
  }
 },
 "nbformat": 4,
 "nbformat_minor": 4
}
